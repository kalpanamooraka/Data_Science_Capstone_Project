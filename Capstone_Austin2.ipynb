{
 "cells": [
  {
   "cell_type": "markdown",
   "metadata": {},
   "source": [
    "# How to find the best place to open the restaurant or a start their own Business.\n",
    "\n",
    "I will use th FourSquare API to explore neighborhoods in Austin City.I will explore the most common venue categories in each Neighborhood,and then use this feature to group the neighborhoods into clusters.I will use the K-means clustering algorithm to find the best place.Finally,I will use the Folium library to visualize the neighborhoods in Austin City and their emerging clusters."
   ]
  },
  {
   "cell_type": "code",
   "execution_count": null,
   "metadata": {},
   "outputs": [],
   "source": []
  }
 ],
 "metadata": {
  "kernelspec": {
   "display_name": "Python 3",
   "language": "python",
   "name": "python3"
  },
  "language_info": {
   "codemirror_mode": {
    "name": "ipython",
    "version": 3
   },
   "file_extension": ".py",
   "mimetype": "text/x-python",
   "name": "python",
   "nbconvert_exporter": "python",
   "pygments_lexer": "ipython3",
   "version": "3.6.8"
  }
 },
 "nbformat": 4,
 "nbformat_minor": 2
}
