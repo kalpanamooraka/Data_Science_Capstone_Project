{
 "cells": [
  {
   "cell_type": "markdown",
   "metadata": {},
   "source": [
    "# Toronto Neighborhood to open a business"
   ]
  },
  {
   "cell_type": "markdown",
   "metadata": {},
   "source": [
    "Introduction:  \n",
    "\n",
    "For this Capstone project, I created a hypothetical scenario for the concept of Indian restaurant , and find the right location to start a new business in Toronto area. The idea behind this project is Toronto doesn't have many Indian restaurants.It might be great opportunity for the small or medium size entrepreneurs. Indian food is very similar to other Asian cuisines,and find where Asian food is popular (aka many Asian restaurants in the neighborhood). With the purpose in mind, finding the location to open a restaurant is one of the most important decisions for this entrepreneur and I am designing this project to help them to find the most suitable location.\n",
    "\n",
    " Business Problem:\n",
    "\n",
    "The objective of this capstone project is to find the most suitable location for the entrepreneur to open a new Indian restaurant in Toronto, Canada by using Machine learing Methods\n",
    "\n",
    "Target Audience\n",
    "\n",
    "The entrepreneur who wants to find the location to open authentic Indian restaurant Data:\n",
    "List of neighborhoods in Toronto, Canada.\n",
    "Latitude and Longitude of these neighborhoods.\n",
    "Venue data related to Asian restaurants. This will help us find the neighborhoods that are most suitable to open an Indian restaurant.\n",
    "\n",
    "Extracting the data\n",
    "\n",
    "Scrapping of Toronto neighborhoods via Wikipedia\n",
    "Getting Latitude and Longitude data of these neighborhoods via Geocoder package\n",
    "Using Foursquare API to get venue data related to these neighborhoods\n",
    "Methodology\n",
    "\n",
    "First, I get the list of neighborhoods in Toronto, Canada through the wikipedia page (“https://en.wikipedia.org/wiki/List_of_postal_codes_of_Canada:_M”)\n",
    "\n",
    "I did the web scraping by utilizing pandas html table scraping method  to get the tabular data directly from a web page into dataframe.\n",
    "\n",
    "However, it is only a list of neighborhood names and postal codes. I took the help from  Foursquare to pull the list of venues near these neighborhood coordinates. To get the coordinates, I tried using Geocoder package but it was not working so I used the csv file provided by IBM team to match the coordinates of Toronto neighborhoods. After gathering all these coordinates, I visualized the map of Toronto using Folium package to verify whether these are correct coordinates.\n",
    "\n",
    "Next, I use Foursquare API to pull the list of top 100 venues within 500 meters radius. I have created a Foursquare developer account in order to obtain account ID and API key to pull the data. From Foursquare, I am able to pull the names, categories, latitude and longitude of the venues. With this data, I can also check how many unique categories that I can get from these venues. Then, I analyze each neighborhood by grouping the rows by neighborhood and taking the mean on the frequency of occurrence of each venue category. This is to prepare clustering to be done later.\n",
    "\n",
    "Here, I made a justification to specifically look for “Thai restaurants”. Previously, when I ran the model, I was looking for “Asian restaurants” but there are very few results (maybe due to Foursquare categorization) so I looked for the restaurants closest to Burmese cuisine taste (side note: Burmese food and Thai food are very similar in taste, so my justification is that if there are people who enjoyed Thai food, they likely are going to enjoy Indian food too!)\n",
    "\n",
    "Lastly, I performed the clustering method by using k-means clustering. K-means clustering algorithm identifies k number of centeriods, and then allocates every data point to the nearest cluster, while keeping the centroids as small as possible. It is one of the simplest and popular unsupervised machine learning algorithms and it is highly suited for this project as well. I have clustered the neighborhoods in Toronto into 3 clusters based on their frequency of occurrence for “Thai food”. Based on the results (the concentration of clusters), I will be able to recommend the ideal location to open the restaurant.\n",
    "\n",
    "Results\n",
    "\n",
    "Clusters\n",
    "\n",
    "\n",
    "The results from k-means clustering show that we can categorize Toronto neighborhoods into 3 clusters based on how many Indian restaurants are in each neighborhood:\n",
    "\n",
    "Cluster 0: Neighborhoods with little or no Indian restaurants\n",
    "Cluster 1: Neighborhoods with no Indian restaurants\n",
    "Cluster 2: Neighborhoods with high number of Indian restaurants\n",
    "The results are visualized in the above map with Cluster 0 in red color, Cluster 1 in purple color and Cluster 2 in light green color.\n",
    "\n",
    "__ Recommendations\n",
    "\n",
    "Most of Thai restaurants are in Cluster 2 which is around Adelaide, King, Richmond areas and lowest (close to zero) in Cluster 1 areas which are North Toronto West and Parkdale areas. Also, there are good opportunities to open near Chinatown, St James town as the competition seems to be low. Looking at nearby venues, it seems Cluster 1 might be a good location as there are not a lot of Asian restaurants in these areas. Therefore, this project recommends the entrepreneur to open an authentic Indian restaurant in these locations with little to no competition.\n",
    "\n",
    "__ Limitations and Suggestions for Future Research\n",
    "\n",
    "In this project, I only take into consideration of one factor: the occurrence / existence of Thai restaurants in each neighborhood. There are many factors that can be taken into consideration such as population density, income of residents, rent that could influence the decision to open a new restaurant. However, to put all these data into this project is not possible to do within a short time frame for this capstone project. Future research can take into consideration of these factors. In addition, I am relying on the existence of Thai restaurants only for this project but future research can take into consideration of other variables such as existence of Asian restaurants, Asian population level in each neighborhood etc.\n",
    "\n",
    "__ Conclusion\n",
    "\n",
    "In this project, we have gone through the process of identifying the business problem, specifying the data required, extracting and preparing the data, performing the machine learning by utilizing k-means clustering and providing recommendation to the stakeholder. \n",
    "\n",
    "__ References\n",
    "\n",
    "List of neighborhoods in Toronto: https://en.wikipedia.org/wiki/List_of_postal_codes_of_Canada:_M"
   ]
  },
  {
   "cell_type": "code",
   "execution_count": null,
   "metadata": {},
   "outputs": [],
   "source": []
  }
 ],
 "metadata": {
  "kernelspec": {
   "display_name": "Python 3",
   "language": "python",
   "name": "python3"
  },
  "language_info": {
   "codemirror_mode": {
    "name": "ipython",
    "version": 3
   },
   "file_extension": ".py",
   "mimetype": "text/x-python",
   "name": "python",
   "nbconvert_exporter": "python",
   "pygments_lexer": "ipython3",
   "version": "3.6.8"
  }
 },
 "nbformat": 4,
 "nbformat_minor": 2
}
