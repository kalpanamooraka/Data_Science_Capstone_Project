{
 "cells": [
  {
   "cell_type": "markdown",
   "metadata": {},
   "source": [
    "# Which is the Best city to open the restaurant or a start  their own business"
   ]
  },
  {
   "cell_type": "markdown",
   "metadata": {},
   "source": [
    "#### Austin is one of the best city to open the restaurant or a start their own Business\n",
    "\n",
    "Some of the reasons,financial advisers and several news makes me to choose Austin city is the best place to open the restaurant or a start their own Business.\n",
    "\n",
    "- Fastest growing technology companies and real estate.\n",
    "- Cost of living is better than big cities.\n",
    "- Schools and colleges are very good rating.\n",
    "- Less travel time gives us more family time \n"
   ]
  },
  {
   "cell_type": "code",
   "execution_count": null,
   "metadata": {},
   "outputs": [],
   "source": []
  }
 ],
 "metadata": {
  "kernelspec": {
   "display_name": "Python 3",
   "language": "python",
   "name": "python3"
  },
  "language_info": {
   "codemirror_mode": {
    "name": "ipython",
    "version": 3
   },
   "file_extension": ".py",
   "mimetype": "text/x-python",
   "name": "python",
   "nbconvert_exporter": "python",
   "pygments_lexer": "ipython3",
   "version": "3.6.8"
  }
 },
 "nbformat": 4,
 "nbformat_minor": 2
}
